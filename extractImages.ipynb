{
 "cells": [
  {
   "cell_type": "code",
   "execution_count": 1,
   "id": "f3e8ae22",
   "metadata": {},
   "outputs": [],
   "source": [
    "import pandas as pd\n",
    "import numpy as np\n",
    "from subprocess import Popen, PIPE, check_output, run\n",
    "import os\n",
    "import sys\n",
    "from io import BytesIO\n",
    "from sklearn.model_selection import train_test_split"
   ]
  },
  {
   "cell_type": "code",
   "execution_count": 40,
   "id": "e89fdcac",
   "metadata": {},
   "outputs": [],
   "source": [
    "#load the admission ids and subject ids\n",
    "path = '/gpfs/commons/groups/gursoy_lab/aelhussein/ML_project/'\n",
    "positive = pd.read_csv(path + '1.0/ids/hadm_ids_positive.txt')\n",
    "all_cases = pd.read_csv(path + '1.0/ids/hadm_ids_all.txt')\n",
    "negative = pd.read_csv(path + '1.0/ids/hadm_ids_negative.txt')\n",
    "admissions = pd.read_csv(path+'1.0/core/admissions.csv')"
   ]
  },
  {
   "cell_type": "code",
   "execution_count": 41,
   "id": "ab2eecf1",
   "metadata": {},
   "outputs": [],
   "source": [
    "positive_subjects = admissions['subject_id'][admissions['hadm_id'].isin(positive['hadm_id'])]\n",
    "negative_subjects = admissions['subject_id'][admissions['hadm_id'].isin(negative['hadm_id'])]"
   ]
  },
  {
   "cell_type": "code",
   "execution_count": 42,
   "id": "f8ea6358",
   "metadata": {
    "scrolled": true
   },
   "outputs": [
    {
     "data": {
      "text/html": [
       "<div>\n",
       "<style scoped>\n",
       "    .dataframe tbody tr th:only-of-type {\n",
       "        vertical-align: middle;\n",
       "    }\n",
       "\n",
       "    .dataframe tbody tr th {\n",
       "        vertical-align: top;\n",
       "    }\n",
       "\n",
       "    .dataframe thead th {\n",
       "        text-align: right;\n",
       "    }\n",
       "</style>\n",
       "<table border=\"1\" class=\"dataframe\">\n",
       "  <thead>\n",
       "    <tr style=\"text-align: right;\">\n",
       "      <th></th>\n",
       "      <th>dicom_id</th>\n",
       "      <th>subject_id</th>\n",
       "      <th>study_id</th>\n",
       "      <th>PerformedProcedureStepDescription</th>\n",
       "      <th>ViewPosition</th>\n",
       "      <th>Rows</th>\n",
       "      <th>Columns</th>\n",
       "      <th>StudyDate</th>\n",
       "      <th>StudyTime</th>\n",
       "      <th>ProcedureCodeSequence_CodeMeaning</th>\n",
       "      <th>...</th>\n",
       "      <th>first_careunit</th>\n",
       "      <th>last_careunit</th>\n",
       "      <th>intime</th>\n",
       "      <th>outtime</th>\n",
       "      <th>los</th>\n",
       "      <th>obs_window_end</th>\n",
       "      <th>obs_window_start</th>\n",
       "      <th>folder</th>\n",
       "      <th>sub_folder</th>\n",
       "      <th>study_folder</th>\n",
       "    </tr>\n",
       "  </thead>\n",
       "  <tbody>\n",
       "    <tr>\n",
       "      <th>0</th>\n",
       "      <td>469d0d94-3dad5068-efac76ef-a28cc502-68fe6275</td>\n",
       "      <td>10001884</td>\n",
       "      <td>50376803</td>\n",
       "      <td>CHEST (PORTABLE AP)</td>\n",
       "      <td>AP</td>\n",
       "      <td>2539</td>\n",
       "      <td>2517</td>\n",
       "      <td>2131-01-15</td>\n",
       "      <td>44509.078</td>\n",
       "      <td>CHEST (PORTABLE AP)</td>\n",
       "      <td>...</td>\n",
       "      <td>Medical Intensive Care Unit (MICU)</td>\n",
       "      <td>Medical Intensive Care Unit (MICU)</td>\n",
       "      <td>2131-01-11 04:20:05</td>\n",
       "      <td>2131-01-20 08:27:30</td>\n",
       "      <td>9.171817</td>\n",
       "      <td>2131-01-18 04:20:05</td>\n",
       "      <td>2131-01-08 04:20:05</td>\n",
       "      <td>p10</td>\n",
       "      <td>p10001884</td>\n",
       "      <td>s50376803</td>\n",
       "    </tr>\n",
       "    <tr>\n",
       "      <th>1</th>\n",
       "      <td>1e647043-eed3576e-3123c170-780cb897-93a89502</td>\n",
       "      <td>10002013</td>\n",
       "      <td>52163036</td>\n",
       "      <td>Performed Desc</td>\n",
       "      <td>PA</td>\n",
       "      <td>1865</td>\n",
       "      <td>1789</td>\n",
       "      <td>2160-05-21</td>\n",
       "      <td>133230.000</td>\n",
       "      <td>CHEST (PA AND LAT)</td>\n",
       "      <td>...</td>\n",
       "      <td>Cardiac Vascular Intensive Care Unit (CVICU)</td>\n",
       "      <td>Cardiac Vascular Intensive Care Unit (CVICU)</td>\n",
       "      <td>2160-05-18 10:00:53</td>\n",
       "      <td>2160-05-19 17:33:33</td>\n",
       "      <td>1.314352</td>\n",
       "      <td>2160-05-25 10:00:53</td>\n",
       "      <td>2160-05-15 10:00:53</td>\n",
       "      <td>p10</td>\n",
       "      <td>p10002013</td>\n",
       "      <td>s52163036</td>\n",
       "    </tr>\n",
       "    <tr>\n",
       "      <th>2</th>\n",
       "      <td>7f51d06c-dad16fe6-ff21a632-edc5a3e6-ffa387bf</td>\n",
       "      <td>10002428</td>\n",
       "      <td>50292543</td>\n",
       "      <td>CHEST (PORTABLE AP)</td>\n",
       "      <td>AP</td>\n",
       "      <td>3056</td>\n",
       "      <td>2544</td>\n",
       "      <td>2156-05-18</td>\n",
       "      <td>24737.203</td>\n",
       "      <td>CHEST (PORTABLE AP)</td>\n",
       "      <td>...</td>\n",
       "      <td>Surgical Intensive Care Unit (SICU)</td>\n",
       "      <td>Medical Intensive Care Unit (MICU)</td>\n",
       "      <td>2156-05-11 14:49:34</td>\n",
       "      <td>2156-05-22 14:16:46</td>\n",
       "      <td>10.977222</td>\n",
       "      <td>2156-05-18 14:49:34</td>\n",
       "      <td>2156-05-08 14:49:34</td>\n",
       "      <td>p10</td>\n",
       "      <td>p10002428</td>\n",
       "      <td>s50292543</td>\n",
       "    </tr>\n",
       "    <tr>\n",
       "      <th>3</th>\n",
       "      <td>c25b9023-9cd26369-dbe2b67b-c250ef52-b772137e</td>\n",
       "      <td>10003019</td>\n",
       "      <td>55487822</td>\n",
       "      <td>CHEST (PORTABLE AP)</td>\n",
       "      <td>AP</td>\n",
       "      <td>2544</td>\n",
       "      <td>3056</td>\n",
       "      <td>2175-10-11</td>\n",
       "      <td>153444.859</td>\n",
       "      <td>CHEST (PORTABLE AP)</td>\n",
       "      <td>...</td>\n",
       "      <td>Medical/Surgical Intensive Care Unit (MICU/SICU)</td>\n",
       "      <td>Medical/Surgical Intensive Care Unit (MICU/SICU)</td>\n",
       "      <td>2175-10-08 18:58:00</td>\n",
       "      <td>2175-10-09 11:59:16</td>\n",
       "      <td>0.709213</td>\n",
       "      <td>2175-10-15 18:58:00</td>\n",
       "      <td>2175-10-05 18:58:00</td>\n",
       "      <td>p10</td>\n",
       "      <td>p10003019</td>\n",
       "      <td>s55487822</td>\n",
       "    </tr>\n",
       "    <tr>\n",
       "      <th>4</th>\n",
       "      <td>4057348e-68278864-98cc1e88-41ae8009-264cb3bf</td>\n",
       "      <td>10003400</td>\n",
       "      <td>58820563</td>\n",
       "      <td>CHEST (PORTABLE AP)</td>\n",
       "      <td>AP</td>\n",
       "      <td>3050</td>\n",
       "      <td>2539</td>\n",
       "      <td>2137-08-24</td>\n",
       "      <td>32422.562</td>\n",
       "      <td>CHEST (PORTABLE AP)</td>\n",
       "      <td>...</td>\n",
       "      <td>Coronary Care Unit (CCU)</td>\n",
       "      <td>Medical Intensive Care Unit (MICU)</td>\n",
       "      <td>2137-08-17 17:36:37</td>\n",
       "      <td>2137-09-02 19:17:11</td>\n",
       "      <td>16.069838</td>\n",
       "      <td>2137-08-24 17:36:37</td>\n",
       "      <td>2137-08-14 17:36:37</td>\n",
       "      <td>p10</td>\n",
       "      <td>p10003400</td>\n",
       "      <td>s58820563</td>\n",
       "    </tr>\n",
       "  </tbody>\n",
       "</table>\n",
       "<p>5 rows × 24 columns</p>\n",
       "</div>"
      ],
      "text/plain": [
       "                                       dicom_id  subject_id  study_id  \\\n",
       "0  469d0d94-3dad5068-efac76ef-a28cc502-68fe6275    10001884  50376803   \n",
       "1  1e647043-eed3576e-3123c170-780cb897-93a89502    10002013  52163036   \n",
       "2  7f51d06c-dad16fe6-ff21a632-edc5a3e6-ffa387bf    10002428  50292543   \n",
       "3  c25b9023-9cd26369-dbe2b67b-c250ef52-b772137e    10003019  55487822   \n",
       "4  4057348e-68278864-98cc1e88-41ae8009-264cb3bf    10003400  58820563   \n",
       "\n",
       "  PerformedProcedureStepDescription ViewPosition  Rows  Columns   StudyDate  \\\n",
       "0               CHEST (PORTABLE AP)           AP  2539     2517  2131-01-15   \n",
       "1                    Performed Desc           PA  1865     1789  2160-05-21   \n",
       "2               CHEST (PORTABLE AP)           AP  3056     2544  2156-05-18   \n",
       "3               CHEST (PORTABLE AP)           AP  2544     3056  2175-10-11   \n",
       "4               CHEST (PORTABLE AP)           AP  3050     2539  2137-08-24   \n",
       "\n",
       "    StudyTime ProcedureCodeSequence_CodeMeaning  ...  \\\n",
       "0   44509.078               CHEST (PORTABLE AP)  ...   \n",
       "1  133230.000                CHEST (PA AND LAT)  ...   \n",
       "2   24737.203               CHEST (PORTABLE AP)  ...   \n",
       "3  153444.859               CHEST (PORTABLE AP)  ...   \n",
       "4   32422.562               CHEST (PORTABLE AP)  ...   \n",
       "\n",
       "                                     first_careunit  \\\n",
       "0                Medical Intensive Care Unit (MICU)   \n",
       "1      Cardiac Vascular Intensive Care Unit (CVICU)   \n",
       "2               Surgical Intensive Care Unit (SICU)   \n",
       "3  Medical/Surgical Intensive Care Unit (MICU/SICU)   \n",
       "4                          Coronary Care Unit (CCU)   \n",
       "\n",
       "                                      last_careunit               intime  \\\n",
       "0                Medical Intensive Care Unit (MICU)  2131-01-11 04:20:05   \n",
       "1      Cardiac Vascular Intensive Care Unit (CVICU)  2160-05-18 10:00:53   \n",
       "2                Medical Intensive Care Unit (MICU)  2156-05-11 14:49:34   \n",
       "3  Medical/Surgical Intensive Care Unit (MICU/SICU)  2175-10-08 18:58:00   \n",
       "4                Medical Intensive Care Unit (MICU)  2137-08-17 17:36:37   \n",
       "\n",
       "               outtime        los       obs_window_end     obs_window_start  \\\n",
       "0  2131-01-20 08:27:30   9.171817  2131-01-18 04:20:05  2131-01-08 04:20:05   \n",
       "1  2160-05-19 17:33:33   1.314352  2160-05-25 10:00:53  2160-05-15 10:00:53   \n",
       "2  2156-05-22 14:16:46  10.977222  2156-05-18 14:49:34  2156-05-08 14:49:34   \n",
       "3  2175-10-09 11:59:16   0.709213  2175-10-15 18:58:00  2175-10-05 18:58:00   \n",
       "4  2137-09-02 19:17:11  16.069838  2137-08-24 17:36:37  2137-08-14 17:36:37   \n",
       "\n",
       "  folder  sub_folder study_folder  \n",
       "0    p10   p10001884    s50376803  \n",
       "1    p10   p10002013    s52163036  \n",
       "2    p10   p10002428    s50292543  \n",
       "3    p10   p10003019    s55487822  \n",
       "4    p10   p10003400    s58820563  \n",
       "\n",
       "[5 rows x 24 columns]"
      ]
     },
     "execution_count": 42,
     "metadata": {},
     "output_type": "execute_result"
    }
   ],
   "source": [
    "cxr_use = pd.read_csv(path+'1.0/cxr_metadata_use2.csv')\n",
    "#create the naming logic needed to download\n",
    "cxr_use['folder'] = 'p' + cxr_use['subject_id'].astype(str).str[:2]\n",
    "cxr_use['sub_folder'] = 'p' + cxr_use['subject_id'].astype(str)\n",
    "cxr_use['study_folder'] = 's' + cxr_use['study_id'].astype(str)\n",
    "cxr_use.head()"
   ]
  },
  {
   "cell_type": "code",
   "execution_count": 43,
   "id": "d2baefdb",
   "metadata": {},
   "outputs": [],
   "source": [
    "cxr_use_positive = cxr_use[cxr_use['subject_id'].isin(positive_subjects)]\n",
    "cxr_use_negative = cxr_use[cxr_use['subject_id'].isin(negative_subjects)]"
   ]
  },
  {
   "cell_type": "code",
   "execution_count": 44,
   "id": "8da64562",
   "metadata": {},
   "outputs": [],
   "source": [
    "#create file request\n",
    "request = 'mv '\n",
    "files = ''\n",
    "for i, row in cxr_use_positive.iterrows():\n",
    "    file = '/gpfs/commons/groups/gursoy_lab/aelhussein/ML_project/1.0/small/cxr/physionet.org/files/mimic-cxr-jpg/2.0.0/files/{}/{}/{}/{}.jpg '.format(\n",
    "        row['folder'], row['sub_folder'], row['study_folder'], row['dicom_id'])\n",
    "    files = files + file\n",
    "new_loc = '/gpfs/commons/groups/gursoy_lab/aelhussein/ML_project/1.0/small/cxr/train/POSITIVE/ '\n",
    "files = files + new_loc\n",
    "\n",
    "positive_request = request+files"
   ]
  },
  {
   "cell_type": "code",
   "execution_count": 46,
   "id": "397a5a8b",
   "metadata": {},
   "outputs": [],
   "source": [
    "#create file request\n",
    "request = 'mv '\n",
    "files = ''\n",
    "for i, row in cxr_use_negative.iterrows():\n",
    "    file = '/gpfs/commons/groups/gursoy_lab/aelhussein/ML_project/1.0/small/cxr/physionet.org/files/mimic-cxr-jpg/2.0.0/files/{}/{}/{}/{}.jpg '.format(\n",
    "        row['folder'], row['sub_folder'], row['study_folder'], row['dicom_id'])\n",
    "    files = files + file\n",
    "new_loc = '/gpfs/commons/groups/gursoy_lab/aelhussein/ML_project/1.0/small/cxr/train/NEGATIVE/ '  \n",
    "files = files  + new_loc\n",
    " \n",
    "negative_request = request+files"
   ]
  },
  {
   "cell_type": "markdown",
   "id": "61ee401c",
   "metadata": {},
   "source": [
    "## filter based on those with images"
   ]
  },
  {
   "cell_type": "code",
   "execution_count": 48,
   "id": "084361d1",
   "metadata": {},
   "outputs": [],
   "source": [
    "#identify which ones got images downloaded\n",
    "request = 'ls /gpfs/commons/groups/gursoy_lab/aelhussein/ML_project/1.0/small/cxr/train/POSITIVE'\n",
    "request = request.split(' ')\n",
    "positive_downloaded = run(request, stdout=PIPE)"
   ]
  },
  {
   "cell_type": "code",
   "execution_count": 49,
   "id": "ef596ebe",
   "metadata": {},
   "outputs": [],
   "source": [
    "def decode(row):\n",
    "    return row['dicom_id'].decode(\"utf-8\").replace('.jpg\\n','')"
   ]
  },
  {
   "cell_type": "code",
   "execution_count": 50,
   "id": "dbeebb42",
   "metadata": {},
   "outputs": [],
   "source": [
    "positive_dl = pd.DataFrame(BytesIO(positive_downloaded.stdout), columns = ['dicom_id'])\n",
    "positive_dl['dicom_id'] = positive_dl.apply(decode, axis = 1)"
   ]
  },
  {
   "cell_type": "code",
   "execution_count": 51,
   "id": "719f17ca",
   "metadata": {},
   "outputs": [],
   "source": [
    "#identify which ones got images downloaded\n",
    "request = 'ls /gpfs/commons/groups/gursoy_lab/aelhussein/ML_project/1.0/small/cxr/train/NEGATIVE'\n",
    "request = request.split(' ')\n",
    "negative_downloaded = run(request, stdout=PIPE)"
   ]
  },
  {
   "cell_type": "code",
   "execution_count": 52,
   "id": "8507341a",
   "metadata": {},
   "outputs": [],
   "source": [
    "negative_dl = pd.DataFrame(BytesIO(negative_downloaded.stdout), columns = ['dicom_id'])\n",
    "negative_dl['dicom_id'] = negative_dl.apply(decode, axis = 1)"
   ]
  },
  {
   "cell_type": "code",
   "execution_count": 53,
   "id": "363d5d19",
   "metadata": {},
   "outputs": [],
   "source": [
    "## find the subjects \n",
    "positive_cases = cxr_use_positive.merge(positive_dl, on = 'dicom_id')\n",
    "negative_cases = cxr_use_negative.merge(negative_dl, on = 'dicom_id')\n",
    "\n",
    "positive_cases['outcome'] = [1 for i in range(positive_cases.shape[0])]\n",
    "negative_cases['outcome'] = [0 for i in range(negative_cases.shape[0])]"
   ]
  },
  {
   "cell_type": "code",
   "execution_count": 55,
   "id": "f650cd5d",
   "metadata": {},
   "outputs": [],
   "source": [
    "## split the positive and negative cases\n",
    "positive_train, positive_test = train_test_split(positive_cases, test_size=0.2, random_state=42)\n",
    "negative_train, negative_test = train_test_split(negative_cases, test_size=0.2, random_state=42)"
   ]
  },
  {
   "cell_type": "code",
   "execution_count": 56,
   "id": "c8f38274",
   "metadata": {
    "scrolled": true
   },
   "outputs": [],
   "source": [
    "positive_train['test'] = [0 for i in range(positive_train.shape[0])]\n",
    "positive_test['test'] = [1 for i in range(positive_test.shape[0])]\n",
    "negative_train['test'] = [0 for i in range(negative_train.shape[0])]\n",
    "negative_test['test'] = [1 for i in range(negative_test.shape[0])]"
   ]
  },
  {
   "cell_type": "code",
   "execution_count": 57,
   "id": "77abc5a6",
   "metadata": {},
   "outputs": [],
   "source": [
    "df = pd.concat([positive_train, positive_test,\n",
    "                negative_train, negative_test])[['dicom_id', 'subject_id',\n",
    "                                                 'outcome', 'test']]\n"
   ]
  },
  {
   "cell_type": "code",
   "execution_count": 58,
   "id": "fc4d4329",
   "metadata": {},
   "outputs": [],
   "source": [
    "#Get the dicomids and download the specific images\n",
    "path = '/gpfs/commons/groups/gursoy_lab/aelhussein/ML_project/1.0/'\n",
    "icustays = pd.read_csv(path + 'small/icu/icustays.csv', parse_dates = ['intime', 'outtime'])\n",
    "icustays = icustays.loc[icustays.groupby('hadm_id').los.idxmax()]"
   ]
  },
  {
   "cell_type": "code",
   "execution_count": 59,
   "id": "0a81270e",
   "metadata": {},
   "outputs": [],
   "source": [
    "df = df.merge(icustays[['subject_id', 'hadm_id']], on = 'subject_id')"
   ]
  },
  {
   "cell_type": "code",
   "execution_count": 60,
   "id": "15fd0064",
   "metadata": {},
   "outputs": [],
   "source": [
    "df = df[['hadm_id','subject_id','dicom_id', 'outcome', 'test']]"
   ]
  },
  {
   "cell_type": "code",
   "execution_count": 62,
   "id": "ffdb6f1e",
   "metadata": {},
   "outputs": [],
   "source": [
    "df.to_csv('/gpfs/commons/groups/gursoy_lab/aelhussein/ML_project/1.0/small/train_test_split.csv', index = False)"
   ]
  },
  {
   "cell_type": "markdown",
   "id": "aa55816e",
   "metadata": {},
   "source": [
    "## move train and test set"
   ]
  },
  {
   "cell_type": "code",
   "execution_count": 2,
   "id": "e00cf9f7",
   "metadata": {},
   "outputs": [],
   "source": [
    "path = '/gpfs/commons/groups/gursoy_lab/aelhussein/ML_project/'\n",
    "split = pd.read_csv(path + '1.0/small/train_test_split.csv')"
   ]
  },
  {
   "cell_type": "code",
   "execution_count": 4,
   "id": "b733cabc",
   "metadata": {},
   "outputs": [
    {
     "data": {
      "text/html": [
       "<div>\n",
       "<style scoped>\n",
       "    .dataframe tbody tr th:only-of-type {\n",
       "        vertical-align: middle;\n",
       "    }\n",
       "\n",
       "    .dataframe tbody tr th {\n",
       "        vertical-align: top;\n",
       "    }\n",
       "\n",
       "    .dataframe thead th {\n",
       "        text-align: right;\n",
       "    }\n",
       "</style>\n",
       "<table border=\"1\" class=\"dataframe\">\n",
       "  <thead>\n",
       "    <tr style=\"text-align: right;\">\n",
       "      <th></th>\n",
       "      <th>hadm_id</th>\n",
       "      <th>subject_id</th>\n",
       "      <th>dicom_id</th>\n",
       "      <th>outcome</th>\n",
       "      <th>test</th>\n",
       "    </tr>\n",
       "  </thead>\n",
       "  <tbody>\n",
       "    <tr>\n",
       "      <th>0</th>\n",
       "      <td>24483629</td>\n",
       "      <td>15811456</td>\n",
       "      <td>ce8c0e78-1ce678ad-6d8cb574-827f203b-2dfa61a4</td>\n",
       "      <td>1</td>\n",
       "      <td>0</td>\n",
       "    </tr>\n",
       "    <tr>\n",
       "      <th>1</th>\n",
       "      <td>26021426</td>\n",
       "      <td>15811456</td>\n",
       "      <td>ce8c0e78-1ce678ad-6d8cb574-827f203b-2dfa61a4</td>\n",
       "      <td>1</td>\n",
       "      <td>0</td>\n",
       "    </tr>\n",
       "    <tr>\n",
       "      <th>2</th>\n",
       "      <td>29271096</td>\n",
       "      <td>15811456</td>\n",
       "      <td>ce8c0e78-1ce678ad-6d8cb574-827f203b-2dfa61a4</td>\n",
       "      <td>1</td>\n",
       "      <td>0</td>\n",
       "    </tr>\n",
       "    <tr>\n",
       "      <th>3</th>\n",
       "      <td>20054615</td>\n",
       "      <td>13903940</td>\n",
       "      <td>9d6a4faa-b6ce6b32-16d5beb3-d66b79ec-f9385d12</td>\n",
       "      <td>1</td>\n",
       "      <td>0</td>\n",
       "    </tr>\n",
       "    <tr>\n",
       "      <th>4</th>\n",
       "      <td>29093665</td>\n",
       "      <td>15588817</td>\n",
       "      <td>a35bbcd9-523ca0c1-cc05a064-7e24059c-15de0862</td>\n",
       "      <td>1</td>\n",
       "      <td>0</td>\n",
       "    </tr>\n",
       "  </tbody>\n",
       "</table>\n",
       "</div>"
      ],
      "text/plain": [
       "    hadm_id  subject_id                                      dicom_id  \\\n",
       "0  24483629    15811456  ce8c0e78-1ce678ad-6d8cb574-827f203b-2dfa61a4   \n",
       "1  26021426    15811456  ce8c0e78-1ce678ad-6d8cb574-827f203b-2dfa61a4   \n",
       "2  29271096    15811456  ce8c0e78-1ce678ad-6d8cb574-827f203b-2dfa61a4   \n",
       "3  20054615    13903940  9d6a4faa-b6ce6b32-16d5beb3-d66b79ec-f9385d12   \n",
       "4  29093665    15588817  a35bbcd9-523ca0c1-cc05a064-7e24059c-15de0862   \n",
       "\n",
       "   outcome  test  \n",
       "0        1     0  \n",
       "1        1     0  \n",
       "2        1     0  \n",
       "3        1     0  \n",
       "4        1     0  "
      ]
     },
     "execution_count": 4,
     "metadata": {},
     "output_type": "execute_result"
    }
   ],
   "source": [
    "split.head()"
   ]
  },
  {
   "cell_type": "code",
   "execution_count": 5,
   "id": "a4b08757",
   "metadata": {},
   "outputs": [],
   "source": [
    "train_pos = split[(split['outcome']==1) & (split['test']==0)]\n",
    "train_neg = split[(split['outcome']==0) & (split['test']==0)]\n",
    "test_pos = split[(split['outcome']==1) & (split['test']==1)]\n",
    "test_neg = split[(split['outcome']==0) & (split['test']==1)]"
   ]
  },
  {
   "cell_type": "code",
   "execution_count": 12,
   "id": "d53c983c",
   "metadata": {},
   "outputs": [],
   "source": [
    "##positive\n",
    "command = 'mv '\n",
    "for value in test_pos['dicom_id']:\n",
    "    value = value + '.jpg '\n",
    "    command = command + value\n",
    "command = command + '/gpfs/commons/groups/gursoy_lab/aelhussein/ML_project/1.0/small/cxr/test/POSITIVE' "
   ]
  },
  {
   "cell_type": "code",
   "execution_count": 15,
   "id": "a74ff8f0",
   "metadata": {},
   "outputs": [],
   "source": [
    "##negative\n",
    "command = 'mv '\n",
    "for value in test_neg['dicom_id']:\n",
    "    value = value + '.jpg '\n",
    "    command = command + value\n",
    "command = command + '/gpfs/commons/groups/gursoy_lab/aelhussein/ML_project/1.0/small/cxr/test/NEGATIVE' "
   ]
  }
 ],
 "metadata": {
  "kernelspec": {
   "display_name": "Python 3 (ipykernel)",
   "language": "python",
   "name": "python3"
  },
  "language_info": {
   "codemirror_mode": {
    "name": "ipython",
    "version": 3
   },
   "file_extension": ".py",
   "mimetype": "text/x-python",
   "name": "python",
   "nbconvert_exporter": "python",
   "pygments_lexer": "ipython3",
   "version": "3.9.7"
  }
 },
 "nbformat": 4,
 "nbformat_minor": 5
}
