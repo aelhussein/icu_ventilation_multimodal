{
 "cells": [
  {
   "cell_type": "code",
   "execution_count": 1,
   "id": "aedb2b9b",
   "metadata": {},
   "outputs": [],
   "source": [
    "import torch\n",
    "import torch.nn as nn\n",
    "import torchvision\n",
    "import torchvision.transforms as transforms\n",
    "import numpy as np\n",
    "import copy\n",
    "from torchvision import models\n",
    "import torch.nn.functional as F\n",
    "from sklearn import metrics\n",
    "import pandas as pd\n",
    "from sklearn.preprocessing import StandardScaler\n",
    "from imblearn.over_sampling import SMOTE, RandomOverSampler \n",
    "import matplotlib.pyplot as plt\n",
    "import seaborn as sns\n",
    "from deepctr_torch.layers.interaction import CrossNet\n",
    "from sklearn.calibration import calibration_curve\n",
    "from sklearn.metrics import confusion_matrix\n",
    "from datetime import timedelta\n",
    "from tableone import TableOne"
   ]
  },
  {
   "cell_type": "markdown",
   "id": "f6bb9b9a",
   "metadata": {},
   "source": [
    "## Prep data"
   ]
  },
  {
   "cell_type": "code",
   "execution_count": 2,
   "id": "7b16d215",
   "metadata": {},
   "outputs": [],
   "source": [
    "path = '/gpfs/commons/groups/gursoy_lab/aelhussein/ML_project/'\n",
    "data = pd.read_csv(path + '1.0/small/dataset2.csv', index_col = 'hadm_id')\n",
    "split = pd.read_csv(path + '1.0/small/train_test_split.csv')"
   ]
  },
  {
   "cell_type": "code",
   "execution_count": 3,
   "id": "bc5e94f4",
   "metadata": {},
   "outputs": [],
   "source": [
    "##create train and test splits\n",
    "train_id = split[split['test'] == 0]\n",
    "X_train = data.loc[train_id['hadm_id'] ]\n",
    "y_train = train_id['outcome']\n",
    "\n",
    "test_id = split[split['test'] == 1]\n",
    "X_test = data.loc[test_id['hadm_id'] ]\n",
    "y_test = test_id['outcome']"
   ]
  },
  {
   "cell_type": "code",
   "execution_count": 4,
   "id": "51c2d7b2",
   "metadata": {},
   "outputs": [],
   "source": [
    "## create scaler and apply only to numeric data before adding binary data\n",
    "scaler = StandardScaler()\n",
    "X_train_norm = scaler.fit_transform(X_train.iloc[:,:-5])\n",
    "X_train_norm = pd.DataFrame(X_train_norm, index = X_train.index, columns = X_train.columns[:-5])\n",
    "X_train_norm = X_train_norm.merge(X_train.iloc[:,-5:], left_index = True, right_index = True)\n",
    "\n",
    "##apply scaler to test data\n",
    "X_test_norm = scaler.transform(X_test.iloc[:,:-5])\n",
    "X_test_norm = pd.DataFrame(X_test_norm, index = X_test.index, columns = X_test.columns[:-5])\n",
    "X_test_norm = X_test_norm.merge(X_test.iloc[:,-5:], left_index = True, right_index = True)"
   ]
  },
  {
   "cell_type": "code",
   "execution_count": 5,
   "id": "99ae09be",
   "metadata": {},
   "outputs": [],
   "source": [
    "## oversample the positive class\n",
    "sm = SMOTE(random_state=42, sampling_strategy = 0.3)\n",
    "X_res, y_res = sm.fit_resample(X_train_norm.reset_index(), y_train)\n",
    "X_res.set_index('hadm_id', inplace = True)"
   ]
  },
  {
   "cell_type": "markdown",
   "id": "c05ca459",
   "metadata": {},
   "source": [
    "## Cohort information"
   ]
  },
  {
   "cell_type": "code",
   "execution_count": 6,
   "id": "6b8f7a15",
   "metadata": {},
   "outputs": [],
   "source": [
    "#extract demographic features\n",
    "path = '/gpfs/commons/groups/gursoy_lab/aelhussein/ML_project/1.0/'\n",
    "patients = pd.read_csv(path + 'core/patients.csv', parse_dates = ['anchor_year'])\n",
    "admissions = pd.read_csv(path + 'core/admissions.csv', parse_dates = ['admittime'])\n",
    "icustays = pd.read_csv(path + 'small/icu/icustays.csv', parse_dates = ['intime', 'outtime'])"
   ]
  },
  {
   "cell_type": "code",
   "execution_count": 7,
   "id": "d59f14fc",
   "metadata": {},
   "outputs": [],
   "source": [
    "demographics = patients.merge(admissions, on = 'subject_id')\n",
    "demographics = demographics.merge(icustays, on=['subject_id','hadm_id'])"
   ]
  },
  {
   "cell_type": "code",
   "execution_count": 8,
   "id": "eacf499a",
   "metadata": {},
   "outputs": [
    {
     "name": "stderr",
     "output_type": "stream",
     "text": [
      "/tmp/ipykernel_1305/1162025142.py:2: SettingWithCopyWarning: \n",
      "A value is trying to be set on a copy of a slice from a DataFrame.\n",
      "Try using .loc[row_indexer,col_indexer] = value instead\n",
      "\n",
      "See the caveats in the documentation: https://pandas.pydata.org/pandas-docs/stable/user_guide/indexing.html#returning-a-view-versus-a-copy\n",
      "  demographics_used['age'] = demographics_used ['anchor_age']+(demographics_used ['admittime'] - demographics_used['anchor_year'])/timedelta(days = 365)\n"
     ]
    }
   ],
   "source": [
    "demographics_used = demographics[(demographics['hadm_id'].isin(X_train.index))| (demographics['hadm_id'].isin(X_test.index))]\n",
    "demographics_used['age'] = demographics_used ['anchor_age']+(demographics_used ['admittime'] - demographics_used['anchor_year'])/timedelta(days = 365)\n"
   ]
  },
  {
   "cell_type": "code",
   "execution_count": 9,
   "id": "fbf7f7c5",
   "metadata": {},
   "outputs": [
    {
     "name": "stderr",
     "output_type": "stream",
     "text": [
      "/tmp/ipykernel_1305/2778731297.py:9: SettingWithCopyWarning: \n",
      "A value is trying to be set on a copy of a slice from a DataFrame.\n",
      "Try using .loc[row_indexer,col_indexer] = value instead\n",
      "\n",
      "See the caveats in the documentation: https://pandas.pydata.org/pandas-docs/stable/user_guide/indexing.html#returning-a-view-versus-a-copy\n",
      "  demographics_used['first_careunit'] = demographics_used['first_careunit'].replace(locations)\n"
     ]
    }
   ],
   "source": [
    "#replace location with either medical or surgical unit\n",
    "locations = {'Medical/Surgical Intensive Care Unit (MICU/SICU)':'MICU',\n",
    "       'Trauma SICU (TSICU)':'SICU', 'Coronary Care Unit (CCU)':'MICU',\n",
    "       'Medical Intensive Care Unit (MICU)':'MICU',\n",
    "       'Cardiac Vascular Intensive Care Unit (CVICU)':'MICU',\n",
    "       'Surgical Intensive Care Unit (SICU)':'SICU',\n",
    "       'Neuro Surgical Intensive Care Unit (Neuro SICU)':'SICU',\n",
    "       'Neuro Stepdown':'SICU'}\n",
    "demographics_used['first_careunit'] = demographics_used['first_careunit'].replace(locations)"
   ]
  },
  {
   "cell_type": "code",
   "execution_count": 10,
   "id": "aa67c16b",
   "metadata": {},
   "outputs": [
    {
     "data": {
      "text/plain": [
       "Index(['subject_id', 'gender', 'anchor_age', 'anchor_year',\n",
       "       'anchor_year_group', 'dod', 'hadm_id', 'admittime', 'dischtime',\n",
       "       'deathtime', 'admission_type', 'admission_location',\n",
       "       'discharge_location', 'insurance', 'language', 'marital_status',\n",
       "       'ethnicity', 'edregtime', 'edouttime', 'hospital_expire_flag',\n",
       "       'stay_id', 'first_careunit', 'last_careunit', 'intime', 'outtime',\n",
       "       'los', 'age'],\n",
       "      dtype='object')"
      ]
     },
     "execution_count": 10,
     "metadata": {},
     "output_type": "execute_result"
    }
   ],
   "source": [
    "demographics_used.columns"
   ]
  },
  {
   "cell_type": "code",
   "execution_count": 11,
   "id": "a11e9c09",
   "metadata": {},
   "outputs": [],
   "source": [
    "table_one = demographics_used[['hadm_id','gender','age','ethnicity','hospital_expire_flag', 'los', 'first_careunit', 'insurance']]\n",
    "outcomes = pd.concat([train_id, test_id])[['hadm_id', 'outcome']]\n",
    "table_one = table_one.merge(outcomes, on = ['hadm_id'])\n",
    "table_one.rename(columns = {'hospital_expire_flag':'death'}, inplace = True)\n",
    "\n",
    "ethnicity_map = {'UNABLE TO OBTAIN':'OTHER', 'UNKNOWN':'OTHER', 'AMERICAN INDIAN/ALASKA NATIVE':'OTHER'}\n",
    "table_one['ethnicity'] = table_one['ethnicity'].map(ethnicity_map).fillna(table_one['ethnicity'])\n"
   ]
  },
  {
   "cell_type": "code",
   "execution_count": 12,
   "id": "e50202d6",
   "metadata": {},
   "outputs": [
    {
     "name": "stderr",
     "output_type": "stream",
     "text": [
      "/gpfs/commons/home/aelhussein/anaconda3/envs/pytorch_env/lib/python3.9/site-packages/tableone/tableone.py:991: FutureWarning: Using the level keyword in DataFrame and Series aggregations is deprecated and will be removed in a future version. Use groupby instead. df.sum(level=1) should use df.groupby(level=1).sum().\n",
      "  df['percent'] = df['freq'].div(df.freq.sum(level=0),\n",
      "/gpfs/commons/home/aelhussein/anaconda3/envs/pytorch_env/lib/python3.9/site-packages/tableone/tableone.py:991: FutureWarning: Using the level keyword in DataFrame and Series aggregations is deprecated and will be removed in a future version. Use groupby instead. df.sum(level=1) should use df.groupby(level=1).sum().\n",
      "  df['percent'] = df['freq'].div(df.freq.sum(level=0),\n",
      "/gpfs/commons/home/aelhussein/anaconda3/envs/pytorch_env/lib/python3.9/site-packages/tableone/tableone.py:991: FutureWarning: Using the level keyword in DataFrame and Series aggregations is deprecated and will be removed in a future version. Use groupby instead. df.sum(level=1) should use df.groupby(level=1).sum().\n",
      "  df['percent'] = df['freq'].div(df.freq.sum(level=0),\n"
     ]
    }
   ],
   "source": [
    "columns = ['gender','age','ethnicity', 'first_careunit']\n",
    "categorical = ['gender','ethnicity', 'first_careunit']\n",
    "groupby = ['outcome']\n",
    "mytable = TableOne(table_one, columns , categorical, groupby, missing = False)"
   ]
  },
  {
   "cell_type": "code",
   "execution_count": 13,
   "id": "282cc032",
   "metadata": {},
   "outputs": [
    {
     "data": {
      "text/html": [
       "<div>\n",
       "<style scoped>\n",
       "    .dataframe tbody tr th:only-of-type {\n",
       "        vertical-align: middle;\n",
       "    }\n",
       "\n",
       "    .dataframe tbody tr th {\n",
       "        vertical-align: top;\n",
       "    }\n",
       "\n",
       "    .dataframe thead tr th {\n",
       "        text-align: left;\n",
       "    }\n",
       "</style>\n",
       "<table border=\"1\" class=\"dataframe\">\n",
       "  <thead>\n",
       "    <tr>\n",
       "      <th></th>\n",
       "      <th></th>\n",
       "      <th colspan=\"3\" halign=\"left\">Grouped by outcome</th>\n",
       "    </tr>\n",
       "    <tr>\n",
       "      <th></th>\n",
       "      <th></th>\n",
       "      <th>Overall</th>\n",
       "      <th>0</th>\n",
       "      <th>1</th>\n",
       "    </tr>\n",
       "  </thead>\n",
       "  <tbody>\n",
       "    <tr>\n",
       "      <th>n</th>\n",
       "      <th></th>\n",
       "      <td>8433</td>\n",
       "      <td>7190</td>\n",
       "      <td>1243</td>\n",
       "    </tr>\n",
       "    <tr>\n",
       "      <th rowspan=\"2\" valign=\"top\">gender, n (%)</th>\n",
       "      <th>F</th>\n",
       "      <td>3764 (44.6)</td>\n",
       "      <td>3238 (45.0)</td>\n",
       "      <td>526 (42.3)</td>\n",
       "    </tr>\n",
       "    <tr>\n",
       "      <th>M</th>\n",
       "      <td>4669 (55.4)</td>\n",
       "      <td>3952 (55.0)</td>\n",
       "      <td>717 (57.7)</td>\n",
       "    </tr>\n",
       "    <tr>\n",
       "      <th>age, mean (SD)</th>\n",
       "      <th></th>\n",
       "      <td>66.4 (15.7)</td>\n",
       "      <td>66.2 (15.9)</td>\n",
       "      <td>67.9 (14.9)</td>\n",
       "    </tr>\n",
       "    <tr>\n",
       "      <th rowspan=\"5\" valign=\"top\">ethnicity, n (%)</th>\n",
       "      <th>ASIAN</th>\n",
       "      <td>234 (2.8)</td>\n",
       "      <td>212 (2.9)</td>\n",
       "      <td>22 (1.8)</td>\n",
       "    </tr>\n",
       "    <tr>\n",
       "      <th>BLACK/AFRICAN AMERICAN</th>\n",
       "      <td>1171 (13.9)</td>\n",
       "      <td>1019 (14.2)</td>\n",
       "      <td>152 (12.2)</td>\n",
       "    </tr>\n",
       "    <tr>\n",
       "      <th>HISPANIC/LATINO</th>\n",
       "      <td>315 (3.7)</td>\n",
       "      <td>263 (3.7)</td>\n",
       "      <td>52 (4.2)</td>\n",
       "    </tr>\n",
       "    <tr>\n",
       "      <th>OTHER</th>\n",
       "      <td>1196 (14.2)</td>\n",
       "      <td>1004 (14.0)</td>\n",
       "      <td>192 (15.4)</td>\n",
       "    </tr>\n",
       "    <tr>\n",
       "      <th>WHITE</th>\n",
       "      <td>5517 (65.4)</td>\n",
       "      <td>4692 (65.3)</td>\n",
       "      <td>825 (66.4)</td>\n",
       "    </tr>\n",
       "    <tr>\n",
       "      <th rowspan=\"2\" valign=\"top\">first_careunit, n (%)</th>\n",
       "      <th>MICU</th>\n",
       "      <td>5804 (68.8)</td>\n",
       "      <td>4967 (69.1)</td>\n",
       "      <td>837 (67.3)</td>\n",
       "    </tr>\n",
       "    <tr>\n",
       "      <th>SICU</th>\n",
       "      <td>2629 (31.2)</td>\n",
       "      <td>2223 (30.9)</td>\n",
       "      <td>406 (32.7)</td>\n",
       "    </tr>\n",
       "  </tbody>\n",
       "</table>\n",
       "</div><br />"
      ],
      "text/plain": [
       "                                             Grouped by outcome                          \n",
       "                                                        Overall            0            1\n",
       "n                                                          8433         7190         1243\n",
       "gender, n (%)         F                             3764 (44.6)  3238 (45.0)   526 (42.3)\n",
       "                      M                             4669 (55.4)  3952 (55.0)   717 (57.7)\n",
       "age, mean (SD)                                      66.4 (15.7)  66.2 (15.9)  67.9 (14.9)\n",
       "ethnicity, n (%)      ASIAN                           234 (2.8)    212 (2.9)     22 (1.8)\n",
       "                      BLACK/AFRICAN AMERICAN        1171 (13.9)  1019 (14.2)   152 (12.2)\n",
       "                      HISPANIC/LATINO                 315 (3.7)    263 (3.7)     52 (4.2)\n",
       "                      OTHER                         1196 (14.2)  1004 (14.0)   192 (15.4)\n",
       "                      WHITE                         5517 (65.4)  4692 (65.3)   825 (66.4)\n",
       "first_careunit, n (%) MICU                          5804 (68.8)  4967 (69.1)   837 (67.3)\n",
       "                      SICU                          2629 (31.2)  2223 (30.9)   406 (32.7)"
      ]
     },
     "execution_count": 13,
     "metadata": {},
     "output_type": "execute_result"
    }
   ],
   "source": [
    "mytable"
   ]
  },
  {
   "cell_type": "markdown",
   "id": "3d3371c4",
   "metadata": {},
   "source": [
    "## EHR neural network"
   ]
  },
  {
   "cell_type": "code",
   "execution_count": 29,
   "id": "0d743c24",
   "metadata": {},
   "outputs": [],
   "source": [
    "class Feedforward(torch.nn.Module):\n",
    "    def __init__(self, input_size, hidden_size):\n",
    "            super(Feedforward, self).__init__()\n",
    "            self.input_size = input_size\n",
    "            self.hidden_size  = hidden_size\n",
    "            self.fc1 = torch.nn.Linear(self.input_size, self.hidden_size[0])\n",
    "            self.relu1 = torch.nn.ReLU()\n",
    "            self.fc2 = torch.nn.Linear(self.hidden_size[0], self.hidden_size[1])\n",
    "            self.relu2 = torch.nn.ReLU()\n",
    "            self.fc3 = torch.nn.Linear(self.hidden_size[1], self.hidden_size[2])\n",
    "            self.relu3 = torch.nn.ReLU()\n",
    "            self.fc4 = torch.nn.Linear(self.hidden_size[2], 1)\n",
    "            self.sigmoid = torch.nn.Sigmoid()\n",
    "            \n",
    "            self.dropout = nn.Dropout(0.5)\n",
    "        \n",
    "    def forward(self, x):\n",
    "            hidden = self.fc1(x)\n",
    "            relu = self.relu1(hidden)\n",
    "            relu = self.dropout(relu)\n",
    "            hidden = self.fc2(relu)\n",
    "            relu = self.relu2(hidden)\n",
    "            relu = self.dropout(relu)\n",
    "            hidden = self.fc3(relu)\n",
    "            relu = self.relu3(hidden)\n",
    "            relu = self.dropout(relu)\n",
    "            output = self.fc4(relu)\n",
    "            output = self.sigmoid(output)\n",
    "            return output"
   ]
  },
  {
   "cell_type": "code",
   "execution_count": 55,
   "id": "0f593906",
   "metadata": {},
   "outputs": [],
   "source": [
    "## initialize model\n",
    "model = Feedforward(X_res.shape[1], [128,64,32])\n",
    "criterion = torch.nn.BCELoss()\n",
    "optimizer = torch.optim.Adam(model.parameters(), lr = 0.001, weight_decay = 0.0005)\n",
    "\n",
    "## of steps to take\n",
    "total_step = X_res.shape[0]\n",
    "\n",
    "#create dictionaries for accuracy, probabilities and labels\n",
    "train_accuracy = {}\n",
    "train_probabilites = {}\n",
    "train_labels = {}\n",
    "\n",
    "test_accuracy = {}\n",
    "test_probabilites = {}\n",
    "test_labels = {}\n",
    "num_epochs = 20\n",
    "#copy the initial weights of the model\n",
    "best_model_wts = copy.deepcopy(model.state_dict())\n",
    "best_model_params = copy.deepcopy(optimizer.state_dict())\n",
    "best_auc_train = 0.0\n",
    "best_auc_test = 0.0"
   ]
  },
  {
   "cell_type": "code",
   "execution_count": 56,
   "id": "ada19210",
   "metadata": {},
   "outputs": [],
   "source": [
    "#run model\n",
    "model_train = torch.tensor(X_res.values)\n",
    "model_test = torch.tensor(X_test_norm.values)\n",
    "#for epoch in range(num_epochs):\n",
    "for epoch in range(num_epochs):\n",
    "    #train the model on the train set\n",
    "    outputs = model(model_train.float())\n",
    "    loss = criterion(outputs.squeeze(1), torch.tensor(y_res.values).float())\n",
    "    \n",
    "    #apply backward propagation\n",
    "    optimizer.zero_grad()\n",
    "    loss.backward()\n",
    "    optimizer.step()\n",
    "    \n",
    "    #auc\n",
    "    fpr, tpr, thresholds = metrics.roc_curve(y_res.values, outputs.detach().numpy())\n",
    "    AUC = metrics.auc(fpr, tpr)\n",
    "    if AUC > best_auc_train:\n",
    "        best_auc_train = AUC\n",
    "    \n",
    "    #Check accuracy in the test set\n",
    "    with torch.no_grad():\n",
    "        outputs = model(model_test.float())\n",
    "        loss = criterion(outputs.squeeze(1), torch.tensor(y_test.values).float())\n",
    "\n",
    "        #calculate AUC for best epoch\n",
    "        fpr, tpr, thresholds = metrics.roc_curve(y_test.values, outputs.detach().numpy())\n",
    "        AUC = metrics.auc(fpr, tpr)\n",
    "        \n",
    "        if AUC > best_auc_test:\n",
    "            best_auc_test = AUC\n",
    "            best_model_wts = copy.deepcopy(model.state_dict())\n",
    "            best_opt_params = copy.deepcopy(optimizer.state_dict())\n",
    "            best_loss = copy.deepcopy(loss)\n",
    "            fpr_best, tpr_best, thresholds_best = fpr, tpr, thresholds\n",
    "            labels, predicted_prob = y_res.values, outputs.detach().numpy().reshape(1,-1)\n",
    "            \n",
    "\n",
    "            \n",
    "path = '/gpfs/commons/groups/gursoy_lab/aelhussein/ML_project/1.0/small/model_params/best_model_params_EHR.pt'\n",
    "state = { 'epoch': epoch,\n",
    "    #'state_dict': best_model_wts,\n",
    "    'optimizer': best_opt_params,\n",
    "    'loss': best_loss}\n",
    "#torch.save(state, path)"
   ]
  },
  {
   "cell_type": "code",
   "execution_count": 20,
   "id": "28703507",
   "metadata": {},
   "outputs": [],
   "source": [
    "##save results\n",
    "ehr_results = {'fpr': fpr_best,\n",
    "               'tpr': tpr_best,\n",
    "               'thresholds': thresholds_best}\n",
    "\n",
    "ehr_results_df = pd.DataFrame.from_dict(ehr_results)\n",
    "#ehr_results_df.to_csv('/gpfs/commons/groups/gursoy_lab/aelhussein/ML_project/1.0/small/results/EHR_only.csv')"
   ]
  },
  {
   "cell_type": "code",
   "execution_count": 21,
   "id": "ab3f15e0",
   "metadata": {},
   "outputs": [
    {
     "data": {
      "image/png": "[encoded data removed]",
      "text/plain": [
       "<Figure size 432x288 with 1 Axes>"
      ]
     },
     "metadata": {},
     "output_type": "display_data"
    }
   ],
   "source": [
    "##plot results\n",
    "sns.set_theme()\n",
    "plt.plot(fpr_best,tpr_best, label=\"AUC=\"+str(round(best_auc_train,2)))\n",
    "plt.plot([0,1],[0,1], linestyle = '--', color = 'r')\n",
    "plt.ylabel('True Positive Rate')\n",
    "plt.xlabel('False Positive Rate')\n",
    "plt.legend()\n",
    "plt.title('AUC-ROC EHR-only model')\n",
    "plt.show()"
   ]
  },
  {
   "cell_type": "markdown",
   "id": "6231265a",
   "metadata": {},
   "source": [
    "## CXR Image processing\n",
    "\n"
   ]
  },
  {
   "cell_type": "code",
   "execution_count": 6,
   "id": "952de8d3",
   "metadata": {},
   "outputs": [],
   "source": [
    "#Define the model in pytorch using resnet32\n",
    "class CNN_CXR(nn.Module):\n",
    "    def __init__(self):\n",
    "        super(CNN_CXR, self).__init__()\n",
    "        ##import resnet\n",
    "        self.model = torchvision.models.resnet34(pretrained=True)\n",
    "        ##create new binary classifier (normal vs. pneumonia)\n",
    "        classifier = nn.Sequential(\n",
    "            nn.Linear(self.model.fc.in_features,128),\n",
    "            nn.Linear(128,2),\n",
    "            nn.LogSoftmax(dim =1))\n",
    "        #Allow all parameters to be updated using the new model\n",
    "        for params in self.model.parameters():\n",
    "            params.requires_grad = False\n",
    "        #Replace the output function with this classifier\n",
    "        self.model.fc = classifier\n",
    "    #Retain the same forward pass architecture in ResNet    \n",
    "    def forward(self,x):\n",
    "        return self.model(x)"
   ]
  },
  {
   "cell_type": "code",
   "execution_count": 10,
   "id": "a7cbed63",
   "metadata": {},
   "outputs": [
    {
     "name": "stdout",
     "output_type": "stream",
     "text": [
      "Processor: cuda\n"
     ]
    }
   ],
   "source": [
    "device = torch.device('cuda' if torch.cuda.is_available() else 'cpu')\n",
    "print('Processor: {}'.format(device))\n",
    "\n",
    "#Transform the images \n",
    "mean_vals = 0.534\n",
    "std_vals=0.0349\n",
    "\n",
    "torch.manual_seed(0)\n",
    "transformers = {'train_transforms' : transforms.Compose([\n",
    "    transforms.Resize((224,224)),\n",
    "    transforms.CenterCrop(224),\n",
    "    transforms.RandomRotation(20),\n",
    "    transforms.RandomHorizontalFlip(),\n",
    "    transforms.ToTensor(),\n",
    "    transforms.Normalize(mean_vals, std=std_vals)\n",
    "]),\n",
    "'test_transforms' : transforms.Compose([\n",
    "    transforms.Resize((224,224)),\n",
    "    transforms.CenterCrop(224),\n",
    "    transforms.ToTensor(),\n",
    "    transforms.Normalize(mean_vals, std=std_vals)\n",
    "])}\n",
    "\n",
    "\n",
    "\n",
    "#Load the images (batch loading)\n",
    "trans = ['train_transforms','test_transforms']\n",
    "path = \"/gpfs/commons/groups/gursoy_lab/aelhussein/ML_project/1.0/small/cxr/\"\n",
    "categories = ['train','test']\n",
    "dset = {x : torchvision.datasets.ImageFolder(path+x, transform=transformers[y]) for x,y in zip(categories, trans)}\n",
    "dataset_sizes = {x : len(dset[x]) for x in [\"train\", 'test']}\n",
    "dataloaders =  {x : torch.utils.data.DataLoader(dset[x], batch_size=128, shuffle=True) for x in categories}\n",
    "\n",
    "\n",
    "##initialize model and optimizer\n",
    "model = CNN_CXR()\n",
    "optimizer = torch.optim.Adam(model.parameters(), lr = 0.001, weight_decay = 0.005)\n",
    "model = model.to(device)\n",
    "\n",
    "\n",
    "##load best model from pretraining\n",
    "path = '/gpfs/commons/groups/gursoy_lab/aelhussein/ML_project/1.0/chest_xray/best_model_params.pt'\n",
    "state = torch.load(path)\n",
    "model.load_state_dict(state['state_dict'])\n",
    "optimizer.load_state_dict(state['optimizer'])\n",
    "model.train()\n",
    "\n",
    "\n",
    "#loss function is NLL (allows weights per class)\n",
    "weights = [0.7, 1]\n",
    "class_weights = torch.FloatTensor(weights).cuda()\n",
    "criterion  = nn.CrossEntropyLoss(weight=class_weights)\n",
    "\n",
    "\n",
    "## of steps to take\n",
    "total_step = dataset_sizes['train']\n",
    "\n",
    "#create dictionaries for accuracy, probabiliteis and labels\n",
    "train_accuracy = {}\n",
    "train_probabilites = {}\n",
    "train_labels = {}\n",
    "test_accuracy = {}\n",
    "test_probabilites = {}\n",
    "test_labels = {}\n",
    "\n",
    "\n",
    "#copy the initial weights of the model\n",
    "best_model_wts = copy.deepcopy(model.state_dict())\n",
    "best_auc_train = 0.0\n",
    "best_auc_test = 0.0"
   ]
  },
  {
   "cell_type": "code",
   "execution_count": null,
   "id": "5cbabd76",
   "metadata": {},
   "outputs": [],
   "source": [
    "#run model\n",
    "num_epochs = 20\n",
    "for epoch in range(num_epochs):\n",
    "    #train the model on the train set\n",
    "    correct_train = 0\n",
    "    total_images_train = 0\n",
    "    train_images_probabilites = []\n",
    "    train_images_labels = []\n",
    "    for i, (images, labels) in enumerate(dataloaders['train']):\n",
    "        #move to cpu or gpu depending on processing unit\n",
    "        images = images.to(device)\n",
    "        labels = labels.to(device)\n",
    "        #run model\n",
    "        outputs = model(images)\n",
    "        #wrangle output and labels and apply loss function\n",
    "        labels = labels.type(torch.cuda.LongTensor)\n",
    "        loss = criterion(outputs, labels)\n",
    "        #store the model probabilites for being in class 1 for AUC\n",
    "        prob = np.exp(outputs[:, 1].tolist())\n",
    "        train_images_probabilites.extend(prob)\n",
    "        train_images_labels.extend(labels.tolist())\n",
    "        #assess accuracy of the train set\n",
    "        predicted = np.round(prob)\n",
    "        correct_train += np.where(predicted.astype(int) == np.array(labels.tolist()))[0].shape[0]\n",
    "        total_images_train += labels.size(0)\n",
    "        #apply backward propagation\n",
    "        optimizer.zero_grad()\n",
    "        loss.backward()\n",
    "        optimizer.step()\n",
    "\n",
    "    train_accuracy[epoch] = 100*(correct_train/total_images_train)\n",
    "    train_probabilites[epoch] = train_images_probabilites\n",
    "    train_labels[epoch] = train_images_labels\n",
    "    \n",
    "    #calculate AUC for best epoch\n",
    "    fpr, tpr, thresholds = metrics.roc_curve(train_labels[epoch], train_probabilites[epoch])\n",
    "    AUC_train = metrics.auc(fpr, tpr)\n",
    "    \n",
    "    print('Train: {}'.format(AUC_train))\n",
    "          \n",
    "    if AUC_train > best_auc_train:\n",
    "        best_auc_train = AUC_train\n",
    "    \n",
    "        #Check accuracy in the test set\n",
    "    with torch.no_grad():\n",
    "        correct_test = 0\n",
    "        total_images_test = 0\n",
    "        test_images_probabilites = []\n",
    "        test_images_labels = []\n",
    "          \n",
    "        for images, labels in dataloaders['test']:\n",
    "            images = images.to(device)\n",
    "            labels = labels.to(device)\n",
    "            outputs = model(images)\n",
    "\n",
    "\n",
    "            labels = labels.type(torch.cuda.LongTensor)\n",
    "            loss = criterion(outputs, labels)\n",
    "\n",
    "            prob = np.exp(outputs[:, 1].tolist())\n",
    "            test_images_probabilites.extend(prob)\n",
    "            test_images_labels.extend(labels.tolist())\n",
    "            \n",
    "            ##assess accuracy\n",
    "            predicted = np.round(prob)\n",
    "            correct_test += np.where(predicted.astype(int) == np.array(labels.tolist()))[0].shape[0]\n",
    "            total_images_test += labels.size(0)\n",
    "\n",
    "        test_accuracy[epoch] = 100*(correct_test/total_images_test)\n",
    "        test_probabilites[epoch] = test_images_probabilites\n",
    "        test_labels[epoch] = test_images_labels\n",
    "        \n",
    "        #calculate AUC for best epoch\n",
    "        fpr, tpr, thresholds = metrics.roc_curve(test_labels[epoch], test_probabilites[epoch])\n",
    "        AUC_test = metrics.auc(fpr, tpr)\n",
    "        print('Test: {}'.format(AUC_test))\n",
    "    \n",
    "        #ensure we keep the best performing model in the test set for future use\n",
    "        if AUC_test > best_auc_test:\n",
    "            best_auc_test = AUC_test\n",
    "            best_model_wts = copy.deepcopy(model.state_dict())\n",
    "            best_opt_params = copy.deepcopy(optimizer.state_dict())\n",
    "            fpr_best, tpr_best, thresholds_best = fpr, tpr, thresholds"
   ]
  },
  {
   "cell_type": "code",
   "execution_count": 35,
   "id": "eeb9207e",
   "metadata": {},
   "outputs": [],
   "source": [
    "##save results\n",
    "cxr_results = {'fpr': fpr_best,\n",
    "               'tpr': tpr_best,\n",
    "               'thresholds': thresholds_best}\n",
    "\n",
    "cxr_results_df = pd.DataFrame.from_dict(cxr_results)\n",
    "#cxr_results_df.to_csv('/gpfs/commons/groups/gursoy_lab/aelhussein/ML_project/1.0/small/results/cxr_only.csv')"
   ]
  },
  {
   "cell_type": "code",
   "execution_count": 36,
   "id": "26c811fe",
   "metadata": {},
   "outputs": [
    {
     "data": {
      "image/png": "[encoded data removed]",
      "text/plain": [
       "<Figure size 432x288 with 1 Axes>"
      ]
     },
     "metadata": {},
     "output_type": "display_data"
    }
   ],
   "source": [
    "##Plot AUC-ROC\n",
    "sns.set_theme()\n",
    "plt.plot(fpr_best,tpr_best, label=\"AUC=\"+str(round(best_auc_train,2)))\n",
    "plt.plot([0,1],[0,1], linestyle = '--', color = 'r')\n",
    "plt.ylabel('True Positive Rate')\n",
    "plt.xlabel('False Positive Rate')\n",
    "plt.legend()\n",
    "plt.title('AUC-ROC CXR-only model')\n",
    "plt.show()"
   ]
  },
  {
   "cell_type": "markdown",
   "id": "ad437289",
   "metadata": {},
   "source": [
    "## Multimodal"
   ]
  },
  {
   "cell_type": "code",
   "execution_count": 121,
   "id": "67220364",
   "metadata": {},
   "outputs": [],
   "source": [
    "class DeepCross(torch.nn.Module):\n",
    "    def __init__(self, input_size, hidden_size):\n",
    "            super(DeepCross, self).__init__()\n",
    "            self.input_size = input_size\n",
    "            self.hidden_size  = hidden_size\n",
    "            self.cross = CrossNet(self.input_size, layer_num = 3)\n",
    "            self.fc1 = torch.nn.Linear(self.input_size, self.hidden_size[0])\n",
    "            self.relu1 = torch.nn.ReLU()\n",
    "            self.fc2 = torch.nn.Linear(self.hidden_size[0], self.hidden_size[1])\n",
    "            self.relu2 = torch.nn.ReLU()\n",
    "            self.fc3 = torch.nn.Linear(self.hidden_size[1], self.hidden_size[2])\n",
    "            self.relu3 = torch.nn.ReLU()\n",
    "            self.fc4 = torch.nn.Linear(self.hidden_size[2], 32)\n",
    "            self.relu4 = torch.nn.ReLU()\n",
    "            self.fc5 = torch.nn.Linear(self.hidden_size[2] + self.input_size, 1)\n",
    "            self.sigmoid = torch.nn.Sigmoid()\n",
    "       \n",
    "            self.dropout = nn.Dropout(0.5)\n",
    "        \n",
    "    def forward(self, x):\n",
    "            output_cross = self.cross(x)\n",
    "            hidden = self.fc1(x)\n",
    "            relu = self.relu1(hidden)\n",
    "            relu = self.dropout(relu)\n",
    "            hidden = self.fc2(relu)\n",
    "            relu = self.relu2(hidden)\n",
    "            relu = self.dropout(relu)\n",
    "            hidden = self.fc3(relu)\n",
    "            relu = self.relu3(hidden)\n",
    "            relu = self.dropout(relu)\n",
    "            hidden = self.fc4(relu)\n",
    "            relu = self.relu4(hidden)\n",
    "            relu = self.dropout(relu)\n",
    "            output = torch.cat((relu, output_cross), dim = 1)\n",
    "            output = self.fc5(output)\n",
    "            output = self.sigmoid(output)\n",
    "            return output"
   ]
  },
  {
   "cell_type": "code",
   "execution_count": 122,
   "id": "a4c9ff4b",
   "metadata": {},
   "outputs": [],
   "source": [
    "device = torch.device('cuda' if torch.cuda.is_available() else 'cpu')\n",
    "## multimodal model (32 vector from cxr added to the ehr data)\n",
    "model_all = DeepCross(X_res.shape[1]+32, [128,64,32])\n",
    "optimizer_all = torch.optim.Adam(model_all.parameters(), lr = 0.001, weight_decay = 0.005)\n",
    "criterion = torch.nn.BCELoss()\n",
    "\n",
    "## of steps to take\n",
    "total_step = X_res.shape[0]\n",
    "\n",
    "#create dictionaries for accuracy, probabilities and labels\n",
    "train_accuracy = {}\n",
    "train_probabilites = {}\n",
    "train_labels = {}\n",
    "\n",
    "test_accuracy = {}\n",
    "test_probabilites = {}\n",
    "test_labels = {}\n",
    "num_epochs = 500\n",
    "\n",
    "#copy the initial weights of the model\n",
    "best_model_wts = copy.deepcopy(model_all.state_dict())\n",
    "best_model_params = copy.deepcopy(optimizer_all.state_dict())\n",
    "best_auc_train = 0.0\n",
    "best_auc_test = 0.0"
   ]
  },
  {
   "cell_type": "code",
   "execution_count": 69,
   "id": "14febad4",
   "metadata": {},
   "outputs": [],
   "source": [
    "#Define the model in pytorch using multimodal\n",
    "class CNN_CXR_multimodal(nn.Module):\n",
    "    def __init__(self):\n",
    "        super(CNN_CXR_multimodal, self).__init__()\n",
    "        ##import resnet\n",
    "        self.model = torchvision.models.resnet34(pretrained=True)\n",
    "        ##create new binary classifier (normal vs. pneumonia)\n",
    "        classifier = nn.Sequential(\n",
    "            nn.Linear(self.model.fc.in_features,128),\n",
    "            nn.Linear(128,2),\n",
    "            nn.LogSoftmax(dim =1))\n",
    "        #Allow all parameters to be updated using the new model\n",
    "        for params in self.model.parameters():\n",
    "            params.requires_grad = False\n",
    "        #Replace the output function with this classifier\n",
    "        self.model.fc = classifier\n",
    "    #Retain the same forward pass architecture in ResNet    \n",
    "    def forward(self,x):\n",
    "        return self.model(x)"
   ]
  },
  {
   "cell_type": "code",
   "execution_count": 144,
   "id": "b1696f34",
   "metadata": {},
   "outputs": [],
   "source": [
    "##load model\n",
    "model_img = CNN_CXR_multimodal()\n",
    "optimizer_img = torch.optim.Adam(model.parameters(), lr = 0.001, weight_decay = 0.005)\n",
    "path = '/gpfs/commons/groups/gursoy_lab/aelhussein/ML_project/1.0/chest_xray/best_model_params.pt'\n",
    "state = torch.load(path)\n",
    "model_img = model_img.to(device)\n",
    "model_img.load_state_dict(state['state_dict'])\n",
    "optimizer_img.load_state_dict(state['optimizer'])\n",
    "\n",
    "##update model to take the 32-shaped vector\n",
    "model_img.model.fc = nn.Sequential(\n",
    "                    nn.Linear(512,32))\n",
    "\n",
    "#Transform the images \n",
    "mean_vals = 0.500\n",
    "std_vals=0.349\n",
    "\n",
    "torch.manual_seed(0)\n",
    "transformers = {'train_transforms' : transforms.Compose([\n",
    "    transforms.Resize((224,224)),\n",
    "    transforms.CenterCrop(224),\n",
    "    transforms.RandomRotation(20),\n",
    "    transforms.RandomHorizontalFlip(),\n",
    "    transforms.ToTensor(),\n",
    "    transforms.Normalize(mean_vals, std=std_vals)\n",
    "]),\n",
    "'test_transforms' : transforms.Compose([\n",
    "    transforms.Resize((224,224)),\n",
    "    transforms.CenterCrop(224),\n",
    "    transforms.ToTensor(),\n",
    "    transforms.Normalize(mean_vals, std=std_vals)\n",
    "])}\n",
    "\n",
    "\n",
    "\n",
    "#Load the images (batch loading)\n",
    "trans = ['train_transforms','test_transforms']\n",
    "path = \"/gpfs/commons/groups/gursoy_lab/aelhussein/ML_project/1.0/small/cxr/\"\n",
    "categories = ['train','test']\n",
    "dset = {x : torchvision.datasets.ImageFolder(path+x, transform=transformers[y]) for x,y in zip(categories, trans)}\n",
    "dataset_sizes = {x : len(dset[x]) for x in [\"train\", 'test']}\n",
    "dataloaders =  {x : torch.utils.data.DataLoader(dset[x], batch_size=128, shuffle=True) for x in categories}\n",
    "\n",
    "\n",
    "## create dictionary of samples to save as using oversampling in train set\n",
    "samples= dataloaders['train'].dataset.samples\n",
    "samples = [sam for sam, _ in samples]\n",
    "sample_dict = {}\n",
    "for sample in samples:\n",
    "    sample_dict[sample.split('/')[-1].replace('.jpg','')] = 0\n",
    "\n",
    "## create dicom_id to hadm_id mapper\n",
    "dicom_hadm_mapper = dict(zip(split['dicom_id'],split['hadm_id']))"
   ]
  },
  {
   "cell_type": "code",
   "execution_count": null,
   "id": "4b23b72a",
   "metadata": {
    "scrolled": true
   },
   "outputs": [],
   "source": [
    "##run model\n",
    "for epoch in range(40):\n",
    "    # save image vectors to pass to main model\n",
    "    image_vectors = []\n",
    "    #train the imaging model on the train set\n",
    "    for i, (images, labels) in enumerate(dataloaders['train']):\n",
    "        images = images.to(device)\n",
    "        labels = labels.to(device)\n",
    "        outputs_img = model_img(images)\n",
    "        #run model and extract\n",
    "        image_vectors.extend(outputs_img.cpu().detach().numpy())\n",
    "        \n",
    "    ##fill sample dict with cxr vectors\n",
    "    for i in range(len(sample_dict.keys())):\n",
    "        sample_dict[list(sample_dict.keys())[i]] = image_vectors[i]\n",
    "        \n",
    "    ## create dataframe of cxr vectors and add in the hadm_id\n",
    "    imgv = pd.DataFrame.from_dict(sample_dict, orient = 'index', columns= ['imgv_{}'.format(i+1) for i in range(128)])\n",
    "    s = imgv.index.to_series()\n",
    "    imgv.index = s.map(dicom_hadm_mapper)  \n",
    "    \n",
    "    ##create new datasets that include the EHR and CXR vectors\n",
    "    input_data_train = X_res.merge(imgv, left_index = True, right_index = True, how = 'left')\n",
    "    y_res_2 = y_res[list(input_data_train['imgv_23'].notnull())]\n",
    "    input_data_train_2 = input_data_train[input_data_train['imgv_23'].notnull()]\n",
    "    input_data_test = X_test_norm.merge(imgv, left_index = True, right_index = True, how = 'left')\n",
    "    y_test_2 = y_test[list(input_data_test['imgv_23'].notnull())]\n",
    "    input_data_test_2 = input_data_test[input_data_test['imgv_23'].notnull()]\n",
    "\n",
    "\n",
    "    ##move datasets to gpu\n",
    "    model_train = torch.tensor(input_data_train_2.values)\n",
    "    model_test = torch.tensor(input_data_test_2.values)\n",
    "    model_train = model_train.to(device)\n",
    "    model_test = model_test.to(device)\n",
    "    y_res_2 = torch.tensor(y_res_2.values).to(device)\n",
    "    y_test_2 = torch.tensor(y_test_2.values).to(device)\n",
    "    ##run model\n",
    "    outputs = model_all(model_train.float())\n",
    "    loss = criterion(outputs.squeeze(1), y_res_2.float())\n",
    "    ##apply backward propagation full data\n",
    "    optimizer_all.zero_grad()\n",
    "    loss.backward(retain_graph=True)\n",
    "    optimizer_all.step()\n",
    "    ##apply backward propagation imaging model\n",
    "    optimizer_img.zero_grad()\n",
    "    loss.backward(retain_graph=True)\n",
    "    optimizer_img.step()\n",
    "\n",
    "    #auc\n",
    "    fpr, tpr, thresholds = metrics.roc_curve(y_res_2.cpu().detach().numpy(), outputs.cpu().detach().numpy())\n",
    "    AUC = metrics.auc(fpr, tpr)\n",
    "    print('Train: {}'.format(AUC))\n",
    "    if AUC > best_auc_train:\n",
    "        best_auc_train = AUC\n",
    "        \n",
    "    #Check accuracy in the test set\n",
    "    with torch.no_grad():\n",
    "        outputs = model_all(model_test.float())\n",
    "        loss = criterion(outputs.squeeze(1), y_test_2.float())\n",
    "\n",
    "        #calculate AUC for best epoch\n",
    "        fpr, tpr, thresholds = metrics.roc_curve(y_test_2.cpu().detach().numpy(), outputs.cpu().detach().numpy())\n",
    "        AUC = metrics.auc(fpr, tpr)\n",
    "        print('Test: {}'.format(AUC))\n",
    "        if AUC > best_auc_test:\n",
    "            best_auc_test = AUC\n",
    "            fpr_best, tpr_best, thresholds_best = fpr, tpr, thresholds\n",
    "            labels, predicted_prob = y_test_2.cpu().detach().numpy(), outputs.cpu().detach().numpy().reshape(1,-1)\n"
   ]
  },
  {
   "cell_type": "code",
   "execution_count": 54,
   "id": "def76594",
   "metadata": {},
   "outputs": [
    {
     "data": {
      "text/plain": [
       "(1371,)"
      ]
     },
     "execution_count": 54,
     "metadata": {},
     "output_type": "execute_result"
    }
   ],
   "source": [
    "predicted_output['predicted'].shape"
   ]
  },
  {
   "cell_type": "code",
   "execution_count": 57,
   "id": "6bb067ee",
   "metadata": {},
   "outputs": [],
   "source": [
    "##save results\n",
    "combined_results = {'fpr': fpr_best,\n",
    "               'tpr': tpr_best,\n",
    "               'thresholds': thresholds_best}\n",
    "\n",
    "\n",
    "combined_results_df = pd.DataFrame.from_dict(combined_results)\n",
    "combined_results_df.to_csv('/gpfs/commons/groups/gursoy_lab/aelhussein/ML_project/1.0/small/results/Combined.csv')\n",
    "\n",
    "predicted_output = {'label': labels, 'predicted': predicted_prob[0]}\n",
    "predicted_output_df = pd.DataFrame.from_dict(predicted_output)\n",
    "predicted_output_df.to_csv('/gpfs/commons/groups/gursoy_lab/aelhussein/ML_project/1.0/small/results/Combined_probs.csv')"
   ]
  },
  {
   "cell_type": "code",
   "execution_count": 58,
   "id": "7cfd042e",
   "metadata": {},
   "outputs": [
    {
     "data": {
      "image/png": "[encoded data removed]",
      "text/plain": [
       "<Figure size 432x288 with 1 Axes>"
      ]
     },
     "metadata": {},
     "output_type": "display_data"
    }
   ],
   "source": [
    "##print results\n",
    "sns.set_theme()\n",
    "plt.plot(fpr_best,tpr_best, label=\"AUC=\"+str(round(best_auc_train,2)))\n",
    "plt.plot([0,1],[0,1], linestyle = '--', color = 'r')\n",
    "plt.ylabel('True Positive Rate')\n",
    "plt.xlabel('False Positive Rate')\n",
    "plt.legend()\n",
    "plt.title('AUC-ROC EHR-only model')\n",
    "plt.show()"
   ]
  },
  {
   "cell_type": "code",
   "execution_count": 59,
   "id": "0706ba4f",
   "metadata": {},
   "outputs": [
    {
     "data": {
      "image/png": "[encoded data removed]",
      "text/plain": [
       "<Figure size 432x288 with 1 Axes>"
      ]
     },
     "metadata": {},
     "output_type": "display_data"
    }
   ],
   "source": [
    "##calibration plot\n",
    "prob_true, prob_pred = calibration_curve(predicted_output_df['label'], predicted_output_df['predicted'], n_bins=10)\n",
    "sns.set_theme()\n",
    "plt.plot(prob_true, prob_pred)\n",
    "plt.plot([0,1],[0,1], linestyle = '--', color = 'r', label = 'Perfect calibration')\n",
    "plt.ylabel('True')\n",
    "plt.xlabel('Predicted')\n",
    "plt.legend()\n",
    "plt.title('Calibration_plot')\n",
    "plt.show()"
   ]
  },
  {
   "cell_type": "code",
   "execution_count": 17,
   "id": "cb79680b",
   "metadata": {},
   "outputs": [],
   "source": [
    "predicted_output_df = pd.read_csv('/gpfs/commons/groups/gursoy_lab/aelhussein/ML_project/1.0/small/results/Combined_probs.csv')"
   ]
  }
 ],
 "metadata": {
  "kernelspec": {
   "display_name": "Python 3 (ipykernel)",
   "language": "python",
   "name": "python3"
  },
  "language_info": {
   "codemirror_mode": {
    "name": "ipython",
    "version": 3
   },
   "file_extension": ".py",
   "mimetype": "text/x-python",
   "name": "python",
   "nbconvert_exporter": "python",
   "pygments_lexer": "ipython3",
   "version": "3.9.7"
  }
 },
 "nbformat": 4,
 "nbformat_minor": 5
}
